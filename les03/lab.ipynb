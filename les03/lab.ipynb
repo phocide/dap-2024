{
  "cells": [
    {
      "cell_type": "markdown",
      "metadata": {
        "id": "qQvfD-M40xIt"
      },
      "source": [
        "# Лабораторная работа №3. NumPy"
      ]
    },
    {
      "cell_type": "markdown",
      "metadata": {
        "id": "78Pco8ZrtVsT"
      },
      "source": [
        "## Задание"
      ]
    },
    {
      "cell_type": "markdown",
      "metadata": {
        "id": "Q8FFEA2R08uS"
      },
      "source": [
        "Выполните следующие задания:\n",
        "\n",
        "1. Откройте в файл в Google Colab (используйте собственный форк репозитория).\n",
        "2. Решите задачи.\n",
        "3. Сохраните результат в ваш репозиторий github в директорию ./les03\n",
        "4. Создайте pull request в репозиторий https://github.com/chebotarevsa/dap-2024. Название pull request должно иметь формат \"<Номер лабораторной работы>  <Номер группы> <ФИО>\"\n",
        "5. Сдайте работу в системе \"Пегас\", в отчет укажите ссылку на pull request"
      ]
    },
    {
      "cell_type": "code",
      "execution_count": 1,
      "metadata": {
        "colab": {
          "base_uri": "https://localhost:8080/",
          "height": 35
        },
        "id": "3ftbuMN45IlN",
        "outputId": "1007510c-6645-4493-d3e9-1d7e5661975e"
      },
      "outputs": [
        {
          "output_type": "execute_result",
          "data": {
            "text/plain": [
              "'2.0.2'"
            ],
            "application/vnd.google.colaboratory.intrinsic+json": {
              "type": "string"
            }
          },
          "metadata": {},
          "execution_count": 1
        }
      ],
      "source": [
        "import numpy as np\n",
        "np.version.version"
      ]
    },
    {
      "cell_type": "markdown",
      "metadata": {
        "id": "6iPL4gTu2ECp"
      },
      "source": [
        "1. Создать массив 10x10 со случайными значениями, найти минимум и максимум (низкая)"
      ]
    },
    {
      "cell_type": "code",
      "execution_count": 31,
      "metadata": {
        "id": "v-AutHvo2T-D",
        "outputId": "cea4c167-2526-49a6-a1ee-f654b354798c",
        "colab": {
          "base_uri": "https://localhost:8080/"
        }
      },
      "outputs": [
        {
          "output_type": "stream",
          "name": "stdout",
          "text": [
            "[[356 272 760 405 756 894 522 841 906 875]\n",
            " [957 456 580 800 953 855 728  19 126 859]\n",
            " [975 862 820 731 618 389 298 624 836 653]\n",
            " [746  17 291 660 104 849 361 643 689 827]\n",
            " [829 351 401 535  55 389 866  18 853 781]\n",
            " [279 454 587  27  38 487 955  23 461 316]\n",
            " [614 894  37 900 691 345 103 879 129 785]\n",
            " [  9 835 636 612 407 630 923 126 732 404]\n",
            " [115 156 342 470 699 204 758 683 843 140]\n",
            " [ 70 404 881 676 377 348 525 282 792 112]]\n",
            "Мин:  9\n",
            "Макс:  975\n"
          ]
        }
      ],
      "source": [
        "array = np.random.randint(0, 1000, (10, 10))\n",
        "print(array)\n",
        "print(\"Мин: \", array.min())\n",
        "print(\"Макс: \", array.max())"
      ]
    },
    {
      "cell_type": "markdown",
      "metadata": {
        "id": "cwxKoGik2Xfd"
      },
      "source": [
        "2. Создать 8x8 матрицу и заполнить её единицами и нулями в шахматном порядке"
      ]
    },
    {
      "cell_type": "code",
      "execution_count": 32,
      "metadata": {
        "id": "zACAjKWC2lBy",
        "outputId": "44cbe560-c176-4223-8252-5f67d4469aba",
        "colab": {
          "base_uri": "https://localhost:8080/"
        }
      },
      "outputs": [
        {
          "output_type": "stream",
          "name": "stdout",
          "text": [
            "[[0 1 0 1 0 1 0 1]\n",
            " [1 0 1 0 1 0 1 0]\n",
            " [0 1 0 1 0 1 0 1]\n",
            " [1 0 1 0 1 0 1 0]\n",
            " [0 1 0 1 0 1 0 1]\n",
            " [1 0 1 0 1 0 1 0]\n",
            " [0 1 0 1 0 1 0 1]\n",
            " [1 0 1 0 1 0 1 0]]\n"
          ]
        }
      ],
      "source": [
        "matrix = np.zeros((8, 8), dtype=int)\n",
        "\n",
        "matrix[1::2, ::2] = 1  # Нечетные строки, четные столбцы\n",
        "matrix[::2, 1::2] = 1  # Четные строки, нечетные столбцы\n",
        "\n",
        "print(matrix)"
      ]
    },
    {
      "cell_type": "markdown",
      "metadata": {
        "id": "YvNFm7Io2tSA"
      },
      "source": [
        "3. Дан массив из 11 элементов, поменять знак у элементов, значения которых между 3 и 8"
      ]
    },
    {
      "cell_type": "code",
      "execution_count": 33,
      "metadata": {
        "id": "cczoe3OY27fA",
        "outputId": "546c2b56-aba4-46ba-f6dc-60082f3eb88b",
        "colab": {
          "base_uri": "https://localhost:8080/"
        }
      },
      "outputs": [
        {
          "output_type": "stream",
          "name": "stdout",
          "text": [
            "[ 0  1  2 -3 -4 -5 -6 -7 -8  9 10]\n"
          ]
        }
      ],
      "source": [
        "z = np.arange(11)\n",
        "z[(z >= 3) & (z <= 8)] *= -1\n",
        "print(z)"
      ]
    },
    {
      "cell_type": "markdown",
      "metadata": {
        "id": "tInYHRPf2-jQ"
      },
      "source": [
        "4. Найти среднее заначение строки матрицы и вычесть его из каждого елемента строки"
      ]
    },
    {
      "cell_type": "code",
      "execution_count": 44,
      "metadata": {
        "id": "Zbv_WG9w3km1",
        "outputId": "2e2929d6-f61d-403e-da35-a2b0ca9be78c",
        "colab": {
          "base_uri": "https://localhost:8080/"
        }
      },
      "outputs": [
        {
          "output_type": "stream",
          "name": "stdout",
          "text": [
            "[[-0.26516911 -0.36012317 -0.03743627  0.41670688 -0.04801913 -0.31695806\n",
            "   0.05232227  0.57325283  0.32005869 -0.33463494]\n",
            " [ 0.23163716 -0.25018314  0.36418767  0.19554453 -0.57338362 -0.06966663\n",
            "   0.17781168  0.10530136  0.31413639 -0.4953854 ]\n",
            " [ 0.06095838 -0.36483722 -0.41418892  0.22600217  0.17738629  0.10762331\n",
            "   0.10652616 -0.17064079  0.33015538 -0.05898477]\n",
            " [-0.31407688  0.32869569  0.23784561 -0.25031649 -0.08184215 -0.19111941\n",
            "  -0.13931873  0.20843913  0.09015775  0.11153547]\n",
            " [ 0.09769796 -0.17101089  0.06060425  0.0472536  -0.17523124  0.24908718\n",
            "  -0.43933416  0.15974223  0.09672235  0.0744687 ]]\n"
          ]
        }
      ],
      "source": [
        "z = np.random.rand(5, 10)\n",
        "z = z - z.mean(axis=1,keepdims=True)\n",
        "print(z)\n"
      ]
    },
    {
      "cell_type": "markdown",
      "metadata": {
        "id": "OStor4mW3lpJ"
      },
      "source": [
        "5. Поменяйте 1 и 2 строки матрицы"
      ]
    },
    {
      "cell_type": "code",
      "execution_count": 45,
      "metadata": {
        "id": "5vfeHqyF3qKd",
        "outputId": "8872e7a1-6705-4dff-ae3f-097b43b98322",
        "colab": {
          "base_uri": "https://localhost:8080/"
        }
      },
      "outputs": [
        {
          "output_type": "stream",
          "name": "stdout",
          "text": [
            "[[ 5  6  7  8  9]\n",
            " [ 0  1  2  3  4]\n",
            " [10 11 12 13 14]\n",
            " [15 16 17 18 19]\n",
            " [20 21 22 23 24]]\n"
          ]
        }
      ],
      "source": [
        "z = np.arange(25).reshape(5,5)\n",
        "z[[0, 1]] = z[[1, 0]]\n",
        "print(z)"
      ]
    },
    {
      "cell_type": "markdown",
      "metadata": {
        "id": "IPQ9xIIk3qml"
      },
      "source": [
        "6. Дан массив 10x2 подеставлющий собой точки в декартовой системе координат, преобразовать в полярную"
      ]
    },
    {
      "cell_type": "code",
      "execution_count": 47,
      "metadata": {
        "id": "zGHBaX8b30Uv",
        "outputId": "6c46ec1d-4948-4a31-f512-6f8dc960fc22",
        "colab": {
          "base_uri": "https://localhost:8080/"
        }
      },
      "outputs": [
        {
          "output_type": "stream",
          "name": "stdout",
          "text": [
            "[[1.0067838  0.63032309]\n",
            " [0.93667954 0.75142709]\n",
            " [1.02509112 1.09001965]\n",
            " [0.94482185 0.55001762]\n",
            " [0.77427917 0.16827382]\n",
            " [0.54620889 0.41463653]\n",
            " [0.87887926 1.09168971]\n",
            " [0.88295576 0.60688413]\n",
            " [0.91402775 1.49660595]\n",
            " [1.04828804 0.33026672]]\n"
          ]
        }
      ],
      "source": [
        "z = np.random.random((10,2))\n",
        "r = np.hypot(z[:, 0], z[:, 1]) # радиус\n",
        "theta = np.arctan2(z[:, 1], z[:, 0]) # угол\n",
        "polar = np.column_stack((r, theta))\n",
        "print(polar)"
      ]
    },
    {
      "cell_type": "markdown",
      "metadata": {
        "id": "10gbuTgE4AOH"
      },
      "source": [
        "7. Заменить максимальный элемент массива на ноль"
      ]
    },
    {
      "cell_type": "code",
      "execution_count": 54,
      "metadata": {
        "id": "gqwuO2T_5Aqd",
        "outputId": "52256642-5c14-45ab-a833-a33fd5efe6dc",
        "colab": {
          "base_uri": "https://localhost:8080/"
        }
      },
      "outputs": [
        {
          "output_type": "stream",
          "name": "stdout",
          "text": [
            "[0.06378627 0.62877566 0.74518755 0.38608848 0.29530536 0.\n",
            " 0.57890473 0.36137524 0.28294849 0.62637552]\n"
          ]
        }
      ],
      "source": [
        "z = np.random.random(10)\n",
        "z[z.argmax()] = 0\n",
        "print(z)"
      ]
    },
    {
      "cell_type": "markdown",
      "metadata": {
        "id": "88m_eWXM6nZY"
      },
      "source": [
        "8. Дан массив, добавить 1 к каждому элементу с индексом, заданным в другом массиве. Добавление производиться только 1 раз"
      ]
    },
    {
      "cell_type": "code",
      "execution_count": 110,
      "metadata": {
        "id": "-5yj9k126pfh",
        "outputId": "330e7e33-aa0f-4a40-d3b2-5f8b5bb72f34",
        "colab": {
          "base_uri": "https://localhost:8080/"
        }
      },
      "outputs": [
        {
          "output_type": "stream",
          "name": "stdout",
          "text": [
            "[0 2 3 4 5 7 8 9]\n",
            "[2. 1. 2. 2. 2. 2. 1. 2. 2. 2.]\n"
          ]
        }
      ],
      "source": [
        "z = np.ones(10)\n",
        "i = np.random.randint(0,len(z),20)\n",
        "print(np.unique(i))\n",
        "z[np.unique(i)]+=1\n",
        "print(z)"
      ]
    },
    {
      "cell_type": "markdown",
      "metadata": {
        "id": "0HByAVK77JCG"
      },
      "source": [
        "9. Дан вектор [1, 2, 3, 4, 5], построить новый вектор с тремя нулями между каждым значением"
      ]
    },
    {
      "cell_type": "code",
      "execution_count": 105,
      "metadata": {
        "id": "2AiZt-J47dqq",
        "outputId": "a625f512-3900-465a-c066-262a70987fc5",
        "colab": {
          "base_uri": "https://localhost:8080/"
        }
      },
      "outputs": [
        {
          "output_type": "stream",
          "name": "stdout",
          "text": [
            "[1 2 3 4 5] [1. 0. 0. 0. 2. 0. 0. 0. 3. 0. 0. 0. 4. 0. 0. 0. 5.]\n"
          ]
        }
      ],
      "source": [
        "z = np.array([1,2,3,4,5])\n",
        "result = np.zeros(len(z) + (len(z)-1) * 3)\n",
        "result[::(4)] = z\n",
        "print(result)"
      ]
    },
    {
      "cell_type": "markdown",
      "metadata": {
        "id": "i0uK-dO08AKP"
      },
      "source": [
        "10. Найти ближайшее к заданному значению число в заданном массиве"
      ]
    },
    {
      "cell_type": "code",
      "execution_count": 103,
      "metadata": {
        "id": "sE0DlZO_-4Cb",
        "outputId": "fc3eecfa-86e8-4a3c-fbbc-10eb4818364d",
        "colab": {
          "base_uri": "https://localhost:8080/"
        }
      },
      "outputs": [
        {
          "output_type": "stream",
          "name": "stdout",
          "text": [
            "91.02425618262772 91\n"
          ]
        }
      ],
      "source": [
        "z = np.arange(100)\n",
        "v = np.random.uniform(0,100)\n",
        "result = z[np.argmin(np.abs(z - v))]\n",
        "print(v,result)"
      ]
    },
    {
      "cell_type": "markdown",
      "metadata": {
        "id": "0zUpsgh8uCfQ"
      },
      "source": [
        "## Вопросы\n",
        "\n",
        "\n"
      ]
    },
    {
      "cell_type": "markdown",
      "metadata": {
        "id": "RQEMkoq5vc3k"
      },
      "source": [
        "**1**. Какой тип (dtype) будут иметь элементы массива?\n",
        "``` python\n",
        "np.array([1, 4, 2, 5, 3])  # int64\n",
        "np.array([1., 4, 2, 5, 3])  # float64\n",
        "np.array([1, 4, 2, 5, 3], dtype='float128')  # float128\n",
        "np.array([1., 4, 2, 5, 3], dtype='complex128')  # complex128\n",
        "np.array([1, 4, 2, 5, 3], dtype ='float64')  # float64\n",
        "np.array([1, 4, 2, 5, 3], dtype =int64)  # int64\n",
        "np.array([1, 4, 2, 5, 3], dtype='bool')  # bool\n",
        "np.array([1, 4, 2, 5, 3], dtype='str')  # <U1\n",
        "np.array([1, 4, 2, 5, '3'])  # <U21\n",
        "np.array([1, -4, 2, 0, 1j])  # complex128\n",
        "```"
      ]
    },
    {
      "cell_type": "markdown",
      "metadata": {
        "id": "SlJfe4Bgvd16"
      },
      "source": [
        "**2**. Что будет выведено в консоль и почему?\n",
        "``` python\n",
        "np.array([1, 4, 2, 5, 3], dtype='str')[1] + '1'\n",
        "np.array([1, -4, 2, 0, 3], dtype='bool')[3] or np.array([1, -4, 2, 0, 3])[1]\n",
        "np.array([1, -4, 2, 0, 3], dtype='bool')[3] and np.array([1, -4, 2, 0, 3])[1]\n",
        "np.array([1, -4, 2, 0, True], dtype='int64')[-1]\n",
        "np.array([1, -4, 2, 0, 1j], dtype='int64')[1]\n",
        "np.array([1, -4, 2, 0, 1j], dtype='str')[-1]\n",
        "np.array([1, 4, 2, 5, '3'])[-1] * 3\n",
        "```\n",
        "\n",
        "Ответ:\n",
        "\n",
        "1. `'41'` - строка `'4'` + строка `'1'`\n",
        "2. `-4` - `False or -4` = `-4` (первый False, второй truthy)\n",
        "3. `False` - `False and -4` = `False` (and возвращает первый False)\n",
        "4. `1` - `True` преобразовалось в `1` при dtype='int64'\n",
        "5. `TypeError` - нельзя преобразовать комплексное число `1j` в int\n",
        "6. `'1j'` - комплексное число как строка, взяли последний элемент\n",
        "7. `'333'` - массив стал строковым, `'3' * 3` = `'333'`"
      ]
    },
    {
      "cell_type": "markdown",
      "metadata": {
        "id": "X50PESx7xVAc"
      },
      "source": [
        "**3**. Каков результат операции?\n",
        "\n",
        "``` python\n",
        "np.ones((3, 5), dtype=float)\n",
        "np.full((3, 5), 3.14)\n",
        "np.linspace(0, 1, 5)\n",
        "np.diag((1,3,5))\n",
        "np.smile((1,3,5))\n",
        "np.random.random((3, 3))\n",
        "np.eye(3)\n",
        "np.empty(3)\n",
        "```\n",
        "\n",
        "Ответ:\n",
        "\n",
        "1. Матрица 3х5 из единиц типа float\n",
        "\n",
        "2. Матрица 3х5 заполненная значением 3.14\n",
        "\n",
        "3. Одномерный массив из 5 равноотстоящих значений от 0 до 1: [0.0, 0.25, 0.5, 0.75, 1.0]\n",
        "\n",
        "4. Диагональная матрица 3х3 с элементами 1, 3, 5 на диагонали\n",
        "\n",
        "5. Ошибка: функция np.smile() не существует\n",
        "\n",
        "6. Матрица 3х3 со случайными значениями от 0 до 1\n",
        "\n",
        "7. Единичная матрица 3х3\n",
        "\n",
        "8. Одномерный массив из 3 неинициализированных значений\n"
      ]
    },
    {
      "cell_type": "code",
      "source": [
        "print(np.ones((3, 5), dtype=float))\n",
        "print(np.full((3, 5), 3.14))\n",
        "print(np.linspace(0, 1, 5))\n",
        "print(np.diag((1, 3, 5)))\n",
        "# print(np.smile((1, 3, 5)))\n",
        "print(np.random.random((3, 3)))\n",
        "print(np.eye(3))\n",
        "print(np.empty(3))"
      ],
      "metadata": {
        "id": "gDswgagx8j6V",
        "outputId": "d0a04939-61f0-4121-a08c-e91a17d691b1",
        "colab": {
          "base_uri": "https://localhost:8080/"
        }
      },
      "execution_count": 130,
      "outputs": [
        {
          "output_type": "stream",
          "name": "stdout",
          "text": [
            "[[1. 1. 1. 1. 1.]\n",
            " [1. 1. 1. 1. 1.]\n",
            " [1. 1. 1. 1. 1.]]\n",
            "[[3.14 3.14 3.14 3.14 3.14]\n",
            " [3.14 3.14 3.14 3.14 3.14]\n",
            " [3.14 3.14 3.14 3.14 3.14]]\n",
            "[0.   0.25 0.5  0.75 1.  ]\n",
            "[[1 0 0]\n",
            " [0 3 0]\n",
            " [0 0 5]]\n",
            "[[0.04281768 0.98791016 0.82361331]\n",
            " [0.7168757  0.86804277 0.92744415]\n",
            " [0.28006782 0.43135338 0.13165797]]\n",
            "[[1. 0. 0.]\n",
            " [0. 1. 0.]\n",
            " [0. 0. 1.]]\n",
            "[1. 1. 1.]\n"
          ]
        }
      ]
    },
    {
      "cell_type": "markdown",
      "metadata": {
        "id": "D6Bt-8cfAWrA"
      },
      "source": [
        "**4**. Дан двумерный массив X, что будет выведено в консоль?\n",
        "\n",
        "``` python\n",
        "X = np.array([[3, 5, 2, 4],\n",
        "      [7, 6, 8, 8],\n",
        "      [1, 6, 7, 7]])\n",
        "```\n",
        "\n",
        "``` python\n",
        "X[0,0]\n",
        "X[-1,-1]\n",
        "X[0:1,-1]\n",
        "X[0:2,-1]\n",
        "X[0:2,0:2]\n",
        "X[1,1:3]\n",
        "X[1,:]\n",
        "X[1,:]\n",
        "X[:,:]\n",
        "X[:]\n",
        "X[::2,::2]\n",
        "X[0:3:2,0:3:2]\n",
        "X[::-1,::-1]\n",
        "```\n",
        "\n",
        "Ответ\n",
        "``` python\n",
        "[[3 5 2 4]\n",
        " [7 6 8 8]\n",
        " [1 6 7 7]]\n",
        "```"
      ]
    },
    {
      "cell_type": "code",
      "source": [
        "X = np.array([[3, 5, 2, 4],\n",
        "      [7, 6, 8, 8],\n",
        "      [1, 6, 7, 7]])\n",
        "X[0,0]\n",
        "X[-1,-1]\n",
        "X[0:1,-1]\n",
        "X[0:2,-1]\n",
        "X[0:2,0:2]\n",
        "X[1,1:3]\n",
        "X[1,:]\n",
        "X[1,:]\n",
        "X[:,:]\n",
        "X[:]\n",
        "X[::2,::2]\n",
        "X[0:3:2,0:3:2]\n",
        "X[::-1,::-1]\n",
        "\n",
        "print(X)"
      ],
      "metadata": {
        "id": "-hq00tcs9qLc",
        "outputId": "64c6514f-8e24-480b-d740-26961a2a2694",
        "colab": {
          "base_uri": "https://localhost:8080/"
        }
      },
      "execution_count": 137,
      "outputs": [
        {
          "output_type": "stream",
          "name": "stdout",
          "text": [
            "[[3 5 2 4]\n",
            " [7 6 8 8]\n",
            " [1 6 7 7]]\n"
          ]
        }
      ]
    },
    {
      "cell_type": "markdown",
      "metadata": {
        "id": "b5ePETuvtVsZ"
      },
      "source": [
        "**5**. Дан двумерный массив grid, в чем различее между операциями?\n",
        "\n",
        "\n",
        "``` python\n",
        "grid = np.arange(16).reshape((4, 4))\n",
        "```\n",
        "\n",
        "``` python\n",
        "np.split(grid, [2])\n",
        "np.split(grid, [2], axis=1)\n",
        "```\n",
        "\n",
        "Ответ:\n",
        "\n",
        "1. `np.split(grid, [2])` делит массив по строкам `axis=0`, создавая 2 части: первые 2 строки и остальные\n",
        "\n",
        "2. `np.split(grid, [2], axis=1)` делит массив по столбцам `axis=1`, создавая 2 части: первые 2 столбца и остальные"
      ]
    },
    {
      "cell_type": "markdown",
      "metadata": {
        "id": "zsazE0gjtVsZ"
      },
      "source": [
        "**6**. В чем различие между операциями?\n",
        "\n",
        "``` python\n",
        "    [1, 2, 3] + [3, 2, 1]\n",
        "    np.array([1, 2, 3]) + np.array([3, 2, 1])\n",
        "```\n",
        "\n",
        "Ответ:\n",
        "\n",
        "1. `[1, 2, 3] + [3, 2, 1]` конкатенация списков, результат: `[1, 2, 3, 3, 2, 1]`\n",
        "\n",
        "2. `np.array([1, 2, 3]) + np.array([3, 2, 1])` — поэлементное сложение массивов, результат: `array([4, 4, 4])`"
      ]
    },
    {
      "cell_type": "markdown",
      "metadata": {
        "id": "yZZKBHCOtVsZ"
      },
      "source": [
        "**7**. Как в CodeLab измерить время выполнения кода?\n",
        "\n",
        "Ответ:\n",
        "\n",
        "`%time` или `%timeit` перед строкой"
      ]
    },
    {
      "cell_type": "markdown",
      "metadata": {
        "id": "ALNZrkBLtVsZ"
      },
      "source": [
        "**8**. Дан массив X, каковы результаты операций?\n",
        "\n",
        "```python\n",
        "X = np.array([[3, 5, 2, 4],\n",
        "      [7, 6, 8, 8],\n",
        "      [1, 6, 7, 7]])\n",
        "\n",
        "np.sum(M)\n",
        "np.sum(M, axis=1)\n",
        "np.sum(M, axis=0)\n",
        "np.sum(M, axis=2)\n",
        "np.sum(M, 1)\n",
        "sum(M)\n",
        "sum(M,1)\n",
        "```\n",
        "\n",
        "Овтет:\n",
        "\n",
        "Ошибочка, М не определена))"
      ]
    },
    {
      "cell_type": "markdown",
      "metadata": {
        "id": "xAmaC2hptVsZ"
      },
      "source": [
        "**9**. Дан массив X, что будет выведено в консоль?\n",
        "\n",
        "```python\n",
        "X = np.array([1,2,3,4])\n",
        "\n",
        "X > 3\n",
        "X < 3\n",
        "X[X < 3]\n",
        "X[X > 3]\n",
        "X[X != 3]\n",
        "```\n",
        "\n",
        "Ответ:\n",
        "\n",
        "`array([1, 2, 4])`"
      ]
    },
    {
      "cell_type": "markdown",
      "metadata": {
        "id": "aSeH9gdutVsZ"
      },
      "source": [
        "**10**.  В чем преимущество массивов NumPy по сравнению с обычными списками.  Чем обусловлено это преимущество?\n",
        "\n",
        "Ответ:\n",
        "\n",
        "Преимущество:\n",
        "\n",
        "- Операции выполняются быстрее благодаря реализации на C и векторизации.\n",
        "- Более эффективное использование памяти (элементы одного типа, хранятся компактно).\n",
        "- Встроенные функции для математических операций, линейной алгебры, статистики и т.д.\n",
        "\n",
        "Обусловлено:\n",
        "- Использованием однотипных данных (например, только float64), что упрощает хранение и обработку.\n",
        "- Непрерывным размещением данных в памяти.\n",
        "- Оптимизированными низкоуровневыми операциями."
      ]
    }
  ],
  "metadata": {
    "colab": {
      "provenance": [],
      "toc_visible": true
    },
    "kernelspec": {
      "display_name": "Python 3",
      "name": "python3"
    },
    "language_info": {
      "codemirror_mode": {
        "name": "ipython",
        "version": 3
      },
      "file_extension": ".py",
      "mimetype": "text/x-python",
      "name": "python",
      "nbconvert_exporter": "python",
      "pygments_lexer": "ipython3",
      "version": "3.12.2"
    }
  },
  "nbformat": 4,
  "nbformat_minor": 0
}